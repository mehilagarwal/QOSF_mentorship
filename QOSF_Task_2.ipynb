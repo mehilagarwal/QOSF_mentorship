{
 "cells": [
  {
   "cell_type": "code",
   "execution_count": 1,
   "id": "instrumental-medicaid",
   "metadata": {},
   "outputs": [
    {
     "name": "stderr",
     "output_type": "stream",
     "text": [
      "/opt/conda/lib/python3.8/site-packages/qiskit/providers/ibmq/ibmqfactory.py:192: UserWarning: Timestamps in IBMQ backend properties, jobs, and job results are all now in local time instead of UTC.\n",
      "  warnings.warn('Timestamps in IBMQ backend properties, jobs, and job results '\n"
     ]
    }
   ],
   "source": [
    "%matplotlib inline\n",
    "# Importing standard Qiskit libraries\n",
    "from qiskit import QuantumCircuit, execute, Aer, IBMQ\n",
    "from qiskit.compiler import transpile, assemble\n",
    "from qiskit.tools.jupyter import *\n",
    "from qiskit.visualization import *\n",
    "from ibm_quantum_widgets import *\n",
    "import numpy as np\n",
    "# Loading your IBM Q account(s)\n",
    "provider = IBMQ.load_account()\n"
   ]
  },
  {
   "cell_type": "markdown",
   "id": "fuzzy-watson",
   "metadata": {},
   "source": [
    "### Task 2\n",
    "The bit-flip code and the sign-flip code (you can find a description of both here) are two very simple circuits able to detect and fix the bit-flip and the sign-flip errors, respectively. \n",
    "\n",
    "1) Build the following simple circuit to prepare the Bell state $\\frac{|00\\rangle + |11\\rangle}{\\sqrt{2}}$ \n",
    "\n",
    "2)Now add, right before the CNOT gate and for each of the two qubits, an arbitrary “error gate”. By error gate we mean that with a certain probability (that you can decide but must be non-zero for all the choices) you have a 1 qubit unitary which can be either the identity, or the X gate (bit-flip error) or the Z gate (sign-flip error).\n",
    "\n",
    "3)Encode each of the two qubits with a sign-flip or a bit-flip code, in such a way that all the possible choices for the error gates described in 2), occurring on the logical qubits, can be detected and fixed. Motivate your choice. This is the most non-trivial part of the problem, so do it with a lot of care!\n",
    "\n",
    "4)Test your solution by making many measurements over the final state and testing that the results are in line with the expectations.\n"
   ]
  },
  {
   "cell_type": "markdown",
   "id": "weekly-zealand",
   "metadata": {},
   "source": [
    "## Part 1"
   ]
  },
  {
   "cell_type": "markdown",
   "id": "crazy-constitution",
   "metadata": {},
   "source": [
    "#### Circuit to prepare the Bell State $\\frac{|00\\rangle + |11\\rangle}{\\sqrt{2}}$"
   ]
  },
  {
   "cell_type": "code",
   "execution_count": 2,
   "id": "alone-exhibit",
   "metadata": {},
   "outputs": [
    {
     "data": {
      "image/png": "[encoded data removed]",
      "text/plain": [
       "<Figure size 327.252x204.68 with 1 Axes>"
      ]
     },
     "execution_count": 2,
     "metadata": {},
     "output_type": "execute_result"
    }
   ],
   "source": [
    "bell00 = QuantumCircuit(2,2)\n",
    "bell00.h(0)\n",
    "bell00.cnot(0,1)\n",
    "bell00.measure([0,1], [0,1])\n",
    "bell00.draw('mpl')"
   ]
  },
  {
   "cell_type": "markdown",
   "id": "hollywood-cross",
   "metadata": {},
   "source": [
    "#### Measuring Bell State $\\frac{|00\\rangle + |11\\rangle}{\\sqrt{2}}$\n",
    "#### Desired output after measurement is either bit string '00' or '11'"
   ]
  },
  {
   "cell_type": "code",
   "execution_count": 3,
   "id": "given-saint",
   "metadata": {},
   "outputs": [
    {
     "data": {
      "image/png": "[encoded data removed]",
      "text/plain": [
       "<Figure size 504x360 with 1 Axes>"
      ]
     },
     "execution_count": 3,
     "metadata": {},
     "output_type": "execute_result"
    }
   ],
   "source": [
    "simulator = Aer.get_backend('qasm_simulator')\n",
    "results = execute(bell00, simulator, shot = 1024).result()\n",
    "counts = results.get_counts(bell00)\n",
    "plot_histogram(counts)"
   ]
  },
  {
   "cell_type": "markdown",
   "id": "compact-superintendent",
   "metadata": {},
   "source": [
    "#### Funciton to add error gates ( I(none), X (bit-flip), Z(phase-flip)) to a circuit with equal probability "
   ]
  },
  {
   "cell_type": "code",
   "execution_count": 4,
   "id": "genetic-birmingham",
   "metadata": {},
   "outputs": [],
   "source": [
    "def addRandomErrorGate(circuit, target_qbit, seed):\n",
    "    np.random.seed(seed)\n",
    "    random1 = np.random.rand()\n",
    "    if random1 < 0.33:\n",
    "        circuit.i(target_qbit)\n",
    "    elif random1 < 0.66:\n",
    "        circuit.x(target_qbit)\n",
    "    else:\n",
    "        circuit.z(target_qbit)\n",
    "    return circuit"
   ]
  },
  {
   "cell_type": "markdown",
   "id": "strong-wayne",
   "metadata": {},
   "source": [
    "### Function to create circuit to add and correct error and measurements according to inputs\n",
    "1) $\\text{correct = True}$:- A circuit with error correction circuit\n",
    "\n",
    "2) $\\text{correct = False}$:- A circuit without error correction circuit\n",
    "\n",
    "3) $\\text{measure = True}$:- Adds classical bit to the circuit to store measurements of qubits\n",
    "\n",
    "4) seed1 and seed2 are to control the randomness of error. Changing seed1 and seed2 will change the error.\n",
    "    "
   ]
  },
  {
   "cell_type": "code",
   "execution_count": 6,
   "id": "norman-individual",
   "metadata": {},
   "outputs": [],
   "source": [
    "def createBellErrorCircuit(correct = False ,measure = False, seed1= 10, seed2 = 18):\n",
    "    #For circuit without error correction\n",
    "    if not correct: \n",
    "        if measure:\n",
    "            bell00_Error = QuantumCircuit(2,2)\n",
    "        else:\n",
    "            bell00_Error = QuantumCircuit(2)\n",
    "            \n",
    "        bell00_Error.h(0)\n",
    "        bell00_Error.barrier()\n",
    "        \n",
    "        # Adding a random error gate\n",
    "        bell00_Error = addRandomErrorGate(bell00_Error, 0, seed1)\n",
    "        bell00_Error = addRandomErrorGate(bell00_Error, 1, seed2)\n",
    "        #gate added\n",
    "        \n",
    "        bell00_Error.barrier()\n",
    "        bell00_Error.cnot(0,1)\n",
    "        return bell00_Error\n",
    "    \n",
    "    #For circuit with error correction\n",
    "    else:\n",
    "        if measure:\n",
    "            bell00_EC = QuantumCircuit(6,2)\n",
    "        else:\n",
    "            bell00_EC = QuantumCircuit(6)\n",
    "        bell00_EC.h(0)\n",
    "        bell00_EC.barrier()\n",
    "\n",
    "        # Adding a random error gate\n",
    "        bell00_EC = addRandomErrorGate(bell00_EC, 0, seed1)\n",
    "        bell00_EC = addRandomErrorGate(bell00_EC, 3, seed2)\n",
    "        #gate added\n",
    "\n",
    "        bell00_EC.barrier()\n",
    "        \n",
    "        #Z gate (phase-flip) error correction\n",
    "        bell00_EC.h(0)\n",
    "        bell00_EC.cnot(0,1)\n",
    "        bell00_EC.cnot(0,2)\n",
    "        bell00_EC.ccx(2,1,0)\n",
    "        bell00_EC.h(0)\n",
    "        # Phase flip error corrected\n",
    "\n",
    "\n",
    "        #X-gate (bit-flip) error correction\n",
    "        bell00_EC.cnot(3,4)\n",
    "        bell00_EC.cnot(3,5)\n",
    "        bell00_EC.ccx(5,4,3)\n",
    "        bell00_EC.barrier()\n",
    "        # Bit flip error corrected\n",
    "\n",
    "        bell00_EC.cnot(0,3)\n",
    "        return bell00_EC"
   ]
  },
  {
   "cell_type": "markdown",
   "id": "structural-bonus",
   "metadata": {},
   "source": [
    "## Part 2"
   ]
  },
  {
   "cell_type": "code",
   "execution_count": 7,
   "id": "prompt-matter",
   "metadata": {},
   "outputs": [],
   "source": [
    "# set seed1 and seed2 to change gates when circuit is drawn\n",
    "seed1 = 10\n",
    "seed2 = 18"
   ]
  },
  {
   "cell_type": "code",
   "execution_count": 8,
   "id": "prepared-prescription",
   "metadata": {},
   "outputs": [
    {
     "data": {
      "image/png": "[encoded data removed]",
      "text/plain": [
       "<Figure size 387.452x144.48 with 1 Axes>"
      ]
     },
     "execution_count": 8,
     "metadata": {},
     "output_type": "execute_result"
    }
   ],
   "source": [
    "bell = createBellErrorCircuit(correct = False, measure = False, seed1 = seed1, seed2 = seed2)\n",
    "bell.draw('mpl')"
   ]
  },
  {
   "cell_type": "code",
   "execution_count": 9,
   "id": "plastic-colony",
   "metadata": {},
   "outputs": [
    {
     "data": {
      "image/png": "[encoded data removed]",
      "text/plain": [
       "<Figure size 507.852x204.68 with 1 Axes>"
      ]
     },
     "execution_count": 9,
     "metadata": {},
     "output_type": "execute_result"
    }
   ],
   "source": [
    "bellError = createBellErrorCircuit(correct = False ,measure = True, seed1 = seed1, seed2 = seed2)\n",
    "bellError.measure([0,1], [0,1])\n",
    "bellError.draw('mpl')"
   ]
  },
  {
   "cell_type": "markdown",
   "id": "selective-engineering",
   "metadata": {},
   "source": [
    "We can observe:\n",
    "1) Only the Z gate error (phase-flip) affects qubit 0. I and X gate have no effect whatsoever.\n",
    "\n",
    "State of qubit 0 after introducing a random gate error\n",
    "\n",
    "$$\n",
    "\\text{No error (I gate):} \\hspace{7.5 pt}\n",
    "I\\Big(\\frac{|0\\rangle + |1\\rangle}{\\sqrt{2}}\\Big) = \\frac{|0\\rangle + |1\\rangle}{\\sqrt{2}}\n",
    "$$\n",
    "\n",
    "$$\n",
    " \\text{Bit flip error (X gate):} \\hspace{7.5 pt}\n",
    "X \\Big(\\frac{|0\\rangle + |1\\rangle}{\\sqrt{2}}\\Big) = \\frac{|0\\rangle + |1\\rangle}{\\sqrt{2}}\n",
    "$$\n",
    "\n",
    "$$\n",
    "\\text{Phase flip error (Z gate):} \\hspace{7.5 pt}\n",
    "   Z\\Big(\\frac{|0\\rangle + |1\\rangle}{\\sqrt{2}}\\Big) = \\frac{|0\\rangle - |1\\rangle}{\\sqrt{2}}\n",
    "$$\n",
    "\n",
    "2) Only the X gate error (phase-flip) affects qubit 1. I and Z gate have no effect whatsoever.\n",
    "\n",
    "State of qubit 1 after introducing a random gate error\n",
    "$$\n",
    "\\text{No error (I gate):} \\hspace{7.5 pt}\n",
    "I|0\\rangle = |0\\rangle\n",
    "$$\n",
    "\n",
    "$$\n",
    "\\text{Bit flip error (X gate):} \\hspace{7.5 pt}\n",
    "X |0\\rangle = |1\\rangle\n",
    "$$\n",
    "\n",
    "$$\n",
    "\\text{Phase flip error (Z gate):} \\hspace{7.5 pt}\n",
    "   Z|0\\rangle = -|0\\rangle \\equiv |0\\rangle\n",
    "$$\n",
    "\n",
    "#### We need to fix Z gate error for qubit 1 and X gate error for qubit 2.\n"
   ]
  },
  {
   "cell_type": "code",
   "execution_count": 10,
   "id": "apart-federation",
   "metadata": {},
   "outputs": [
    {
     "data": {
      "image/png": "[encoded data removed]",
      "text/plain": [
       "<Figure size 504x360 with 1 Axes>"
      ]
     },
     "execution_count": 10,
     "metadata": {},
     "output_type": "execute_result"
    }
   ],
   "source": [
    "simulator = Aer.get_backend('qasm_simulator')\n",
    "results = execute(bellError, simulator, shot = 1024).result()\n",
    "counts = results.get_counts(bellError)\n",
    "plot_histogram(counts)"
   ]
  },
  {
   "cell_type": "code",
   "execution_count": 11,
   "id": "duplicate-delicious",
   "metadata": {},
   "outputs": [],
   "source": [
    "#to set number of times to do measurements\n",
    "numOfMeasurements = 20"
   ]
  },
  {
   "cell_type": "code",
   "execution_count": 13,
   "id": "aquatic-average",
   "metadata": {},
   "outputs": [
    {
     "name": "stdout",
     "output_type": "stream",
     "text": [
      "Number of correct measurements:  14\n",
      "Number of incorrect measurements:  6\n"
     ]
    }
   ],
   "source": [
    "# The measurements are done on random gate combinations by randomly generating seeds\n",
    "correct = 0 \n",
    "incorrect = 0\n",
    "for i in range(numOfMeasurements):\n",
    "    bellErrorCheck = createBellErrorCircuit(correct = False ,measure = True, seed1 = np.random.randint(100000), seed2 = np.random.randint(100000))\n",
    "    bellErrorCheck.measure([0,1], [0,1])\n",
    "    simulator = Aer.get_backend('qasm_simulator')\n",
    "    results = execute(bellErrorCheck, simulator, shot = 1024).result()\n",
    "    counts = results.get_counts(bellErrorCheck)\n",
    "    if list(counts.keys()) != ['00', '11']:\n",
    "        incorrect += 1\n",
    "    else:\n",
    "        correct += 1\n",
    "print('Number of correct measurements: ', correct)\n",
    "print('Number of incorrect measurements: ', incorrect)"
   ]
  },
  {
   "cell_type": "markdown",
   "id": "opponent-paraguay",
   "metadata": {},
   "source": [
    "## Part 3"
   ]
  },
  {
   "cell_type": "markdown",
   "id": "acting-shoulder",
   "metadata": {},
   "source": [
    "## Qubit 0 phase flip error correction\n",
    "We are using 2 ancilla qubits to correct qubit 0 error\n",
    "#### State after introducing Z gate error\n",
    "$$\n",
    "Z |+\\rangle = |-\\rangle \n",
    "$$\n",
    "### Error correction\n",
    "#### After Hadamard\n",
    "$$\n",
    "H |-\\rangle |00\\rangle = |1\\rangle |00\\rangle\n",
    "$$\n",
    "#### Applying CNOT (control qubit is 0, target qubit is 1)\n",
    "$$\n",
    "CNOT |1\\rangle |00\\rangle = |1\\rangle |10\\rangle\n",
    "$$\n",
    "#### Applying CNOT (control qubit is 0, target qubit is 2)\n",
    "$$\n",
    "CNOT |1\\rangle |10\\rangle = |1\\rangle |11\\rangle\n",
    "$$\n",
    "#### Applying CCNOT (control qubits are 1 and 2, target qubit is 0)\n",
    "$$\n",
    "CCNOT |1\\rangle |11\\rangle = |0\\rangle |11\\rangle\n",
    "$$\n",
    "#### Applying Hadamard to qubit 0 \n",
    "$$\n",
    "H |0\\rangle |11\\rangle = |+\\rangle |11\\rangle\n",
    "$$\n",
    "### The phase flip error was corrected\n",
    "\n",
    "\n",
    "## Qubit 3 bit flip error correction\n",
    "We are using 2 ancilla qubits to correct qubit 3 error\n",
    "#### State after introducing Z gate error\n",
    "$$\n",
    "X |0\\rangle = |1\\rangle \n",
    "$$\n",
    "### Error correction\n",
    "#### Applying CNOT (control qubit is 0, target qubit is 1)\n",
    "$$\n",
    "CNOT |1\\rangle |00\\rangle = |1\\rangle |10\\rangle\n",
    "$$\n",
    "#### Applying CNOT (control qubit is 0, target qubit is 2)\n",
    "$$\n",
    "CNOT |1\\rangle |10\\rangle = |1\\rangle |11\\rangle\n",
    "$$\n",
    "#### Applying CCNOT (control qubits are 1 and 2, target qubit is 0)\n",
    "$$\n",
    "CCNOT |1\\rangle |11\\rangle = |0\\rangle |11\\rangle\n",
    "$$\n",
    "### The bit flip error was corrected\n"
   ]
  },
  {
   "cell_type": "markdown",
   "id": "level-myanmar",
   "metadata": {},
   "source": [
    "#### Qubit 0 is the first qubit of Bell State   $|\\phi ^{+}\\rangle$\n",
    "#### Qubit 3 is the second qubit of Bell State   $|\\phi ^{+}\\rangle$"
   ]
  },
  {
   "cell_type": "code",
   "execution_count": 15,
   "id": "shaped-sacrifice",
   "metadata": {},
   "outputs": [
    {
     "data": {
      "image/png": "[encoded data removed]",
      "text/plain": [
       "<Figure size 748.797x385.28 with 1 Axes>"
      ]
     },
     "execution_count": 15,
     "metadata": {},
     "output_type": "execute_result"
    }
   ],
   "source": [
    "circ1 = createBellErrorCircuit(correct = True ,measure = False, seed1 = seed1, seed2 = seed2)\n",
    "circ1.draw('mpl')"
   ]
  },
  {
   "cell_type": "markdown",
   "id": "operational-election",
   "metadata": {},
   "source": [
    "## Part 4"
   ]
  },
  {
   "cell_type": "code",
   "execution_count": 16,
   "id": "human-houston",
   "metadata": {},
   "outputs": [
    {
     "data": {
      "image/png": "[encoded data removed]",
      "text/plain": [
       "<Figure size 869.197x445.48 with 1 Axes>"
      ]
     },
     "execution_count": 16,
     "metadata": {},
     "output_type": "execute_result"
    }
   ],
   "source": [
    "bellM = createBellErrorCircuit(correct = True ,measure = True, seed1 = seed1, seed2 = seed2)\n",
    "bellM.measure([0,3], [0,1])\n",
    "bellM.draw('mpl')"
   ]
  },
  {
   "cell_type": "code",
   "execution_count": 17,
   "id": "brief-denver",
   "metadata": {},
   "outputs": [
    {
     "data": {
      "image/png": "[encoded data removed]",
      "text/plain": [
       "<Figure size 504x360 with 1 Axes>"
      ]
     },
     "execution_count": 17,
     "metadata": {},
     "output_type": "execute_result"
    }
   ],
   "source": [
    "simulator = Aer.get_backend('qasm_simulator')\n",
    "results = execute(bellM, simulator, shot = 1024).result()\n",
    "counts = results.get_counts(bellM)\n",
    "plot_histogram(counts)"
   ]
  },
  {
   "cell_type": "code",
   "execution_count": 18,
   "id": "severe-sperm",
   "metadata": {},
   "outputs": [
    {
     "name": "stdout",
     "output_type": "stream",
     "text": [
      "Number of correct measurements:  20\n",
      "Number of incorrect measurements:  0\n"
     ]
    }
   ],
   "source": [
    "correct = 0 \n",
    "incorrect = 0\n",
    "for i in range(numOfMeasurements):\n",
    "    bellCheck = createBellErrorCircuit(correct = True ,measure = True, seed1 = np.random.randint(1000), seed2 = np.random.randint(1000))\n",
    "    bellCheck.measure([0,3], [0,1])\n",
    "    simulator = Aer.get_backend('qasm_simulator')\n",
    "    results = execute(bellCheck, simulator, shot = 1024).result()\n",
    "    counts = results.get_counts(bellCheck)\n",
    "    if list(counts.keys()) != ['00', '11']:\n",
    "        incorrect += 1\n",
    "    else:\n",
    "        correct += 1\n",
    "print('Number of correct measurements: ', correct)\n",
    "print('Number of incorrect measurements: ', incorrect)"
   ]
  },
  {
   "cell_type": "markdown",
   "id": "wicked-being",
   "metadata": {},
   "source": []
  }
 ],
 "metadata": {
  "kernelspec": {
   "display_name": "Python 3",
   "language": "python",
   "name": "python3"
  },
  "language_info": {
   "codemirror_mode": {
    "name": "ipython",
    "version": 3
   },
   "file_extension": ".py",
   "mimetype": "text/x-python",
   "name": "python",
   "nbconvert_exporter": "python",
   "pygments_lexer": "ipython3",
   "version": "3.8.6"
  }
 },
 "nbformat": 4,
 "nbformat_minor": 5
}
